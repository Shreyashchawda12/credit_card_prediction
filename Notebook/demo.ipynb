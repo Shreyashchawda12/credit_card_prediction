{
 "cells": [
  {
   "cell_type": "code",
   "execution_count": null,
   "metadata": {},
   "outputs": [],
   "source": []
  },
  {
   "attachments": {},
   "cell_type": "markdown",
   "metadata": {},
   "source": [
    "### Introduction About the Data :\n",
    "\n",
    "**The dataset** The goal is to predict `defaulter` of given credit card customers.\n",
    "\n",
    "There are 25 independent variables (including `id`):\n",
    "\n",
    "* `ID`: ID of each client\n",
    "* `LIMIT_BAL`: Amount of given credit in NT dollars (includes individual and family/supplementary credit\n",
    "* `SEX`: Gender (1=male, 2=female)\n",
    "* `EDUCATION`: (1=graduate school, 2=university, 3=high school, 4=others, 5=unknown, 6=unknown)\n",
    "* `MARRIAGE`: Marital status (1=married, 2=single, 3=others)\n",
    "* `AGE`: Age in years\n",
    "* `PAY_0`: Repayment status in September, 2005 (-1=pay duly, 1=payment delay for one month, 2=payment delay for two months, … 8=payment delay \n",
    "* `for` eight months, 9=payment delay for nine months and above)\n",
    "* `PAY_2`: Repayment status in August, 2005 (scale same as above)\n",
    "* `PAY_3`: Repayment status in July, 2005 (scale same as above)\n",
    "* `PAY_4`: Repayment status in June, 2005 (scale same as above)\n",
    "* `PAY_5`: Repayment status in May, 2005 (scale same as above)\n",
    "* `PAY_6`: Repayment status in April, 2005 (scale same as above)\n",
    "* `BILL_AMT1`: Amount of bill statement in September, 2005 (NT dollar)\n",
    "* `BILL_AMT2`: Amount of bill statement in August, 2005 (NT dollar)\n",
    "* `BILL_AMT3`: Amount of bill statement in July, 2005 (NT dollar)\n",
    "* `BILL_AMT4`: Amount of bill statement in June, 2005 (NT dollar)\n",
    "* `BILL_AMT5`: Amount of bill statement in May, 2005 (NT dollar)\n",
    "* `BILL_AMT6`: Amount of bill statement in April, 2005 (NT dollar)\n",
    "* `PAY_AMT1`: Amount of previous payment in September, 2005 (NT dollar)\n",
    "* `PAY_AMT2`: Amount of previous payment in August, 2005 (NT dollar)\n",
    "* `PAY_AMT3`: Amount of previous payment in July, 2005 (NT dollar)\n",
    "* `PAY_AMT4`: Amount of previous payment in June, 2005 (NT dollar)\n",
    "* `PAY_AMT5`: Amount of previous payment in May, 2005 (NT dollar)\n",
    "* `PAY_AMT6`: Amount of previous payment in April, 2005 (NT dollar)\n",
    "Target variable:\n",
    "* `default`: default.payment.next.month: Default payment (1=yes, 0=no)."
   ]
  },
  {
   "cell_type": "markdown",
   "metadata": {},
   "source": []
  }
 ],
 "metadata": {
  "language_info": {
   "name": "python"
  },
  "orig_nbformat": 4
 },
 "nbformat": 4,
 "nbformat_minor": 2
}
